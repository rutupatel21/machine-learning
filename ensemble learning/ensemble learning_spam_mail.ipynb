{
 "cells": [
  {
   "cell_type": "markdown",
   "metadata": {},
   "source": [
    "## Ensemble Learning"
   ]
  },
  {
   "cell_type": "code",
   "execution_count": 9,
   "metadata": {},
   "outputs": [],
   "source": [
    "import numpy as np \n",
    "import pandas as pd \n",
    "dataset1 = pd.read_csv('spam.csv' , encoding='cp437')\n",
    "y=dataset1.iloc[:,0].values"
   ]
  },
  {
   "cell_type": "code",
   "execution_count": 10,
   "metadata": {},
   "outputs": [],
   "source": [
    "import re\n",
    "import nltk\n",
    "from nltk.stem.porter import PorterStemmer\n",
    "from nltk.corpus import stopwords\n",
    "orpus=[]\n",
    "for i in range(0,5572):\n",
    "    review = re.sub('[^a-zA-Z]',' ',dataset1['v2'][i])\n",
    "    review=review.lower()\n",
    "    review=review.split()\n",
    "    ps=PorterStemmer()\n",
    "    review=[ps.stem(word) for word in review if not word in set(stopwords.words('english'))]\n",
    "    review=' '.join(review)\n",
    "    orpus.append(review)"
   ]
  },
  {
   "cell_type": "code",
   "execution_count": 11,
   "metadata": {},
   "outputs": [],
   "source": [
    "from sklearn.feature_extraction.text import CountVectorizer    \n",
    "cv=CountVectorizer(max_features=3000)\n",
    "x=cv.fit_transform(orpus).toarray()\n",
    "\n",
    "from sklearn.preprocessing import LabelEncoder\n",
    "le=LabelEncoder()\n",
    "y=le.fit_transform(y) "
   ]
  },
  {
   "cell_type": "code",
   "execution_count": 12,
   "metadata": {},
   "outputs": [],
   "source": [
    "# Splitting the dataset into the Training set and Test set\n",
    "from sklearn.model_selection import train_test_split\n",
    "X_train, X_test, y_train, y_test = train_test_split(x, y, test_size = 0.20)\n",
    "\n"
   ]
  },
  {
   "cell_type": "code",
   "execution_count": null,
   "metadata": {},
   "outputs": [],
   "source": [
    "\n"
   ]
  },
  {
   "cell_type": "code",
   "execution_count": 15,
   "metadata": {},
   "outputs": [
    {
     "name": "stdout",
     "output_type": "stream",
     "text": [
      "Accuracy score: 0.9739910313901345\n",
      "Precision score: 0.9855072463768116\n",
      "Recall score: 0.8343558282208589\n",
      "F1 score: 0.9036544850498339\n"
     ]
    }
   ],
   "source": [
    "#Random Forest\n",
    "\n",
    "from sklearn.ensemble import RandomForestClassifier\n",
    "model1=RandomForestClassifier(n_estimators=15,criterion='entropy')\n",
    "model1.fit(X_train,y_train)\n",
    "predRF=model1.predict(X_test)\n",
    "\n",
    "from sklearn.metrics import accuracy_score,precision_score,recall_score,f1_score\n",
    "print('Accuracy score: {}'.format(accuracy_score(y_test, predRF)))\n",
    "print('Precision score: {}'.format(precision_score(y_test, predRF)))\n",
    "print('Recall score: {}'.format(recall_score(y_test, predRF)))\n",
    "print('F1 score: {}'.format(f1_score(y_test, predRF)))\n"
   ]
  },
  {
   "cell_type": "code",
   "execution_count": 19,
   "metadata": {},
   "outputs": [
    {
     "name": "stdout",
     "output_type": "stream",
     "text": [
      "Accuracy score: 0.9820627802690582\n",
      "Precision score: 0.9798657718120806\n",
      "Recall score: 0.8957055214723927\n",
      "F1 score: 0.9358974358974359\n"
     ]
    }
   ],
   "source": [
    "#SVM\n",
    "\n",
    "from sklearn.svm import SVC, NuSVC, LinearSVC\n",
    "model2 = LinearSVC()\n",
    "model2.fit(X_train,y_train)\n",
    "predSVM = model2.predict(X_test)\n",
    "\n",
    "print('Accuracy score: {}'.format(accuracy_score(y_test, predSVM)))\n",
    "print('Precision score: {}'.format(precision_score(y_test, predSVM)))\n",
    "print('Recall score: {}'.format(recall_score(y_test, predSVM)))\n",
    "print('F1 score: {}'.format(f1_score(y_test, predSVM)))"
   ]
  },
  {
   "cell_type": "code",
   "execution_count": 22,
   "metadata": {},
   "outputs": [
    {
     "name": "stdout",
     "output_type": "stream",
     "text": [
      "Accuracy score: 0.9802690582959641\n",
      "Precision score: 0.9668874172185431\n",
      "Recall score: 0.8957055214723927\n",
      "F1 score: 0.9299363057324841\n"
     ]
    }
   ],
   "source": [
    "# back proppgation\n",
    "from sklearn.neural_network import MLPClassifier\n",
    "\n",
    "model3 = MLPClassifier(solver='sgd',learning_rate_init= 0.01, max_iter=500)\n",
    "model3.fit(X_train, y_train)\n",
    "predMLP = model3.predict(X_test)\n",
    "\n",
    "print('Accuracy score: {}'.format(accuracy_score(y_test, predMLP)))\n",
    "print('Precision score: {}'.format(precision_score(y_test, predMLP)))\n",
    "print('Recall score: {}'.format(recall_score(y_test, predMLP)))\n",
    "print('F1 score: {}'.format(f1_score(y_test, predMLP)))"
   ]
  },
  {
   "cell_type": "code",
   "execution_count": 24,
   "metadata": {},
   "outputs": [
    {
     "name": "stdout",
     "output_type": "stream",
     "text": [
      "Accuracy score: 0.9112107623318386\n",
      "Precision score: 0.9210526315789473\n",
      "Recall score: 0.4294478527607362\n",
      "F1 score: 0.5857740585774059\n"
     ]
    }
   ],
   "source": [
    "# decision tree\n",
    "from sklearn import tree, metrics\n",
    "\n",
    "model4 = tree.DecisionTreeClassifier(criterion='entropy', max_depth=3, random_state=0)\n",
    "model4.fit(X_train, y_train)\n",
    "predDT = model4.predict(X_test)\n",
    "\n",
    "print('Accuracy score: {}'.format(accuracy_score(y_test, predDT)))\n",
    "print('Precision score: {}'.format(precision_score(y_test, predDT)))\n",
    "print('Recall score: {}'.format(recall_score(y_test, predDT)))\n",
    "print('F1 score: {}'.format(f1_score(y_test, predDT)))"
   ]
  },
  {
   "cell_type": "code",
   "execution_count": null,
   "metadata": {},
   "outputs": [],
   "source": []
  }
 ],
 "metadata": {
  "kernelspec": {
   "display_name": "Python 3",
   "language": "python",
   "name": "python3"
  },
  "language_info": {
   "codemirror_mode": {
    "name": "ipython",
    "version": 3
   },
   "file_extension": ".py",
   "mimetype": "text/x-python",
   "name": "python",
   "nbconvert_exporter": "python",
   "pygments_lexer": "ipython3",
   "version": "3.7.4"
  }
 },
 "nbformat": 4,
 "nbformat_minor": 2
}
