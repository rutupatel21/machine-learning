{
 "cells": [
  {
   "cell_type": "code",
   "execution_count": 25,
   "metadata": {},
   "outputs": [
    {
     "name": "stdout",
     "output_type": "stream",
     "text": [
      "count of categories before over sampling:\n",
      "Counter({0: 9900, 1: 100})\n"
     ]
    }
   ],
   "source": [
    "# example of random oversampling to balance the class distribution\n",
    "from collections import Counter\n",
    "from sklearn.datasets import make_classification\n",
    "from imblearn.over_sampling import RandomOverSampler\n",
    "\n",
    "# define dataset\n",
    "X, y = make_classification(n_samples=10000, weights=[0.99], flip_y=0)\n",
    "\n",
    "# summarize class distribution\n",
    "print(\"count of categories before over sampling:\")\n",
    "print(Counter(y))"
   ]
  },
  {
   "cell_type": "code",
   "execution_count": 26,
   "metadata": {},
   "outputs": [],
   "source": [
    "# fitting dataset using SVM before oversampling\n",
    "from numpy import mean\n",
    "from sklearn.datasets import make_classification\n",
    "from sklearn.model_selection import cross_val_score\n",
    "from sklearn.model_selection import RepeatedStratifiedKFold\n",
    "from sklearn import svm\n",
    "from imblearn.pipeline import Pipeline\n",
    "from imblearn.over_sampling import RandomOverSampler\n",
    "\n",
    "# define dataset\n",
    "X, y = make_classification(n_samples=10000, weights=[0.99], flip_y=0)\n",
    "\n",
    "from sklearn.model_selection import train_test_split\n",
    "\n",
    "X_train,X_test,y_train,y_test = train_test_split(X, y, random_state=42)\n",
    "\n",
    "clf1 = svm.SVC()\n",
    "clf1.fit(X_train, y_train)\n",
    "\n",
    "pred1 = clf1.predict(X_test)"
   ]
  },
  {
   "cell_type": "code",
   "execution_count": 27,
   "metadata": {},
   "outputs": [
    {
     "name": "stdout",
     "output_type": "stream",
     "text": [
      "Accuracy score: 0.9916\n",
      "Precision score: 1.0\n",
      "Recall score: 0.045454545454545456\n",
      "F1 score: 0.08695652173913045\n"
     ]
    }
   ],
   "source": [
    "# performance metrics before over sampling\n",
    "from sklearn.metrics import accuracy_score,precision_score,recall_score,f1_score\n",
    "\n",
    "print('Accuracy score: {}'.format(accuracy_score(y_test, pred1)))\n",
    "print('Precision score: {}'.format(precision_score(y_test, pred1)))\n",
    "print('Recall score: {}'.format(recall_score(y_test, pred1)))\n",
    "print('F1 score: {}'.format(f1_score(y_test, pred1)))"
   ]
  },
  {
   "cell_type": "code",
   "execution_count": 28,
   "metadata": {},
   "outputs": [
    {
     "name": "stdout",
     "output_type": "stream",
     "text": [
      "count of categories after over sampling:\n",
      "Counter({0: 9900, 1: 9900})\n"
     ]
    }
   ],
   "source": [
    "# balancing dataset\n",
    "\n",
    "# define oversampling strategy\n",
    "oversample = RandomOverSampler(sampling_strategy='minority')\n",
    "\n",
    "# fit and apply the transform\n",
    "X_over, y_over = oversample.fit_resample(X, y)\n",
    "\n",
    "# summarize class distr\n",
    "print(\"count of categories after over sampling:\")\n",
    "print(Counter(y_over))\n",
    "\n"
   ]
  },
  {
   "cell_type": "code",
   "execution_count": 29,
   "metadata": {},
   "outputs": [],
   "source": [
    "# fitting balanced dataset using SVM\n",
    "\n",
    "clf2 = svm.SVC()\n",
    "clf2.fit(X_over, y_over)\n",
    "\n",
    "pred2 = clf2.predict(X_test)"
   ]
  },
  {
   "cell_type": "code",
   "execution_count": 30,
   "metadata": {},
   "outputs": [
    {
     "name": "stdout",
     "output_type": "stream",
     "text": [
      "Accuracy score: 0.9952\n",
      "Precision score: 0.6470588235294118\n",
      "Recall score: 1.0\n",
      "F1 score: 0.7857142857142858\n"
     ]
    }
   ],
   "source": [
    "# performance metrics after over sampling\n",
    "\n",
    "print('Accuracy score: {}'.format(accuracy_score(y_test, pred2)))\n",
    "print('Precision score: {}'.format(precision_score(y_test, pred2)))\n",
    "print('Recall score: {}'.format(recall_score(y_test, pred2)))\n",
    "print('F1 score: {}'.format(f1_score(y_test, pred2)))"
   ]
  },
  {
   "cell_type": "code",
   "execution_count": null,
   "metadata": {
    "scrolled": true
   },
   "outputs": [],
   "source": []
  }
 ],
 "metadata": {
  "kernelspec": {
   "display_name": "Python 3",
   "language": "python",
   "name": "python3"
  },
  "language_info": {
   "codemirror_mode": {
    "name": "ipython",
    "version": 3
   },
   "file_extension": ".py",
   "mimetype": "text/x-python",
   "name": "python",
   "nbconvert_exporter": "python",
   "pygments_lexer": "ipython3",
   "version": "3.7.4"
  }
 },
 "nbformat": 4,
 "nbformat_minor": 2
}
